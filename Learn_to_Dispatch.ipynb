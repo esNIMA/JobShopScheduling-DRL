{
  "nbformat": 4,
  "nbformat_minor": 0,
  "metadata": {
    "colab": {
      "provenance": [],
      "gpuType": "T4"
    },
    "kernelspec": {
      "name": "python3",
      "display_name": "Python 3"
    },
    "language_info": {
      "name": "python"
    },
    "accelerator": "GPU"
  },
  "cells": [
    {
      "cell_type": "code",
      "execution_count": 1,
      "metadata": {
        "id": "x0Xp-jVMVxSb",
        "colab": {
          "base_uri": "https://localhost:8080/"
        },
        "outputId": "5ec9a326-8f85-4bf4-81e7-21f00c6d694c"
      },
      "outputs": [
        {
          "output_type": "stream",
          "name": "stdout",
          "text": [
            "/content/drive/MyDrive/L2D-main\n"
          ]
        }
      ],
      "source": [
        "%cd /content/drive/MyDrive/L2D-main"
      ]
    },
    {
      "cell_type": "code",
      "source": [
        "import numpy as np\n",
        "from uniform_instance_gen import uni_instance_gen\n",
        "\n",
        "j = 17\n",
        "m = 12\n",
        "l = 1\n",
        "h = 99\n",
        "batch_size = 100\n",
        "seed = 150\n",
        "\n",
        "np.random.seed(seed)\n",
        "\n",
        "data = np.array([uni_instance_gen(n_j=j, n_m=m, low=l, high=h) for _ in range(batch_size)])\n",
        "print(data.shape)\n",
        "np.save('./DataGen/generatedData{}_{}_Seed{}.npy'.format(j, m, seed), data)\n"
      ],
      "metadata": {
        "colab": {
          "base_uri": "https://localhost:8080/"
        },
        "id": "DGMXBjh0qYeR",
        "outputId": "6c69d6eb-1f96-4a90-8130-89e8c45bb32a"
      },
      "execution_count": 3,
      "outputs": [
        {
          "output_type": "stream",
          "name": "stdout",
          "text": [
            "(100, 2, 17, 12)\n"
          ]
        }
      ]
    },
    {
      "cell_type": "code",
      "source": [
        "!python3 PPO_jssp_multiInstances.py --n_j=17 --n_m=12 --max_updates=50 --num_envs=2"
      ],
      "metadata": {
        "colab": {
          "base_uri": "https://localhost:8080/"
        },
        "id": "LYuIUDLbn9bj",
        "outputId": "d1c34e75-2bb5-4d29-828d-d4ef377c084c"
      },
      "execution_count": 13,
      "outputs": [
        {
          "output_type": "stream",
          "name": "stdout",
          "text": [
            "/content/drive/MyDrive/L2D-main/mb_agg.py:44: UserWarning: torch.sparse.SparseTensor(indices, values, shape, *, device=) is deprecated.  Please use torch.sparse_coo_tensor(indices, values, shape, dtype=, device=). (Triggered internally at ../torch/csrc/utils/tensor_new.cpp:605.)\n",
            "  graph_pool = torch.sparse.FloatTensor(idx, elem,\n",
            "Episode 1\t Last reward: -1577.50\t Mean_Vloss: 2.21842098\n",
            "Episode 2\t Last reward: -1531.50\t Mean_Vloss: 2.18772840\n",
            "Episode 3\t Last reward: -1460.00\t Mean_Vloss: 2.17262220\n",
            "Episode 4\t Last reward: -1539.50\t Mean_Vloss: 2.16915774\n",
            "Episode 5\t Last reward: -1634.00\t Mean_Vloss: 2.18081069\n",
            "Episode 6\t Last reward: -1658.00\t Mean_Vloss: 2.12601805\n",
            "Episode 7\t Last reward: -1510.00\t Mean_Vloss: 2.14316654\n",
            "Episode 8\t Last reward: -1555.50\t Mean_Vloss: 2.11526370\n",
            "Episode 9\t Last reward: -1715.00\t Mean_Vloss: 2.12047148\n",
            "Episode 10\t Last reward: -1542.00\t Mean_Vloss: 2.07081842\n",
            "Episode 11\t Last reward: -1606.50\t Mean_Vloss: 2.08272648\n",
            "Episode 12\t Last reward: -1499.50\t Mean_Vloss: 2.04778314\n",
            "Episode 13\t Last reward: -1591.50\t Mean_Vloss: 2.06256843\n",
            "Episode 14\t Last reward: -1610.00\t Mean_Vloss: 2.05151033\n",
            "Episode 15\t Last reward: -1614.50\t Mean_Vloss: 2.02966142\n",
            "Episode 16\t Last reward: -1597.50\t Mean_Vloss: 1.98112559\n",
            "Episode 17\t Last reward: -1735.00\t Mean_Vloss: 1.99077153\n",
            "Episode 18\t Last reward: -1603.50\t Mean_Vloss: 1.97767639\n",
            "Episode 19\t Last reward: -1700.00\t Mean_Vloss: 1.99568462\n",
            "Episode 20\t Last reward: -1609.00\t Mean_Vloss: 1.97596860\n",
            "Episode 21\t Last reward: -1678.00\t Mean_Vloss: 1.98125982\n",
            "Episode 22\t Last reward: -1821.50\t Mean_Vloss: 1.94168305\n",
            "Episode 23\t Last reward: -1496.50\t Mean_Vloss: 1.91271174\n",
            "Episode 24\t Last reward: -1652.00\t Mean_Vloss: 1.89380419\n",
            "Episode 25\t Last reward: -1587.50\t Mean_Vloss: 1.89653444\n",
            "Traceback (most recent call last):\n",
            "  File \"/content/drive/MyDrive/L2D-main/PPO_jssp_multiInstances.py\", line 298, in <module>\n",
            "    main()\n",
            "  File \"/content/drive/MyDrive/L2D-main/PPO_jssp_multiInstances.py\", line 264, in main\n",
            "    loss, v_loss = ppo.update(memories, configs.n_j*configs.n_m, configs.graph_pool_type)\n",
            "  File \"/content/drive/MyDrive/L2D-main/PPO_jssp_multiInstances.py\", line 113, in update\n",
            "    adj_mb_t_all_env.append(aggr_obs(torch.stack(memories[i].adj_mb).to(device), n_tasks))\n",
            "KeyboardInterrupt\n"
          ]
        }
      ]
    },
    {
      "cell_type": "code",
      "source": [
        "import numpy\n",
        "import numpy as np\n",
        "import matplotlib.pyplot as plt\n",
        "import re\n",
        "\n",
        "# plot parameters\n",
        "x_label_scale = 5\n",
        "y_label_scale = 5\n",
        "anchor_text_size = 15\n",
        "show = True\n",
        "save = False\n",
        "save_file_type = '.pdf'\n",
        "# problem params\n",
        "n_j = 17\n",
        "n_m = 12\n",
        "l = 1\n",
        "h = 99\n",
        "stride = 50\n",
        "datatype = 'log'  # 'vali', 'log'\n",
        "\n",
        "\n",
        "f = open('./{}_{}_{}_{}_{}.txt'.format(datatype, n_j, n_m, l, h), 'r').readline()\n",
        "if datatype == 'vali':\n",
        "    obj = numpy.array([float(s) for s in re.findall(r'-?\\d+\\.?\\d*', f)[1::2]])[:]\n",
        "    idx = np.arange(obj.shape[0])\n",
        "    # plotting...\n",
        "    plt.xlabel('Iteration', {'size': x_label_scale})\n",
        "    plt.ylabel('MakeSpan', {'size': y_label_scale})\n",
        "    plt.grid()\n",
        "    plt.plot(idx, obj, color='tab:blue', label='{}x{}'.format(n_j, n_m))\n",
        "    plt.tight_layout()\n",
        "    plt.legend(fontsize=anchor_text_size)\n",
        "    if save:\n",
        "        plt.savefig('./{}{}'.format('message-passing_time', save_file_type))\n",
        "    if show:\n",
        "        plt.show()\n",
        "elif datatype == 'log':\n",
        "    obj = numpy.array([float(s) for s in re.findall(r'-?\\d+\\.?\\d*', f)[1::2]])[:].reshape(-1, stride).mean(axis=-1)\n",
        "    idx = np.arange(obj.shape[0])\n",
        "    # plotting...\n",
        "    plt.xlabel('Iteration', {'size': x_label_scale})\n",
        "    plt.ylabel('MakeSpan', {'size': y_label_scale})\n",
        "    plt.grid()\n",
        "    plt.plot(idx, obj, color='tab:blue', label='{}x{}'.format(n_j, n_m))\n",
        "    plt.tight_layout()\n",
        "    plt.legend(fontsize=anchor_text_size)\n",
        "    if save:\n",
        "        plt.savefig('./{}{}'.format('message-passing_time', save_file_type))\n",
        "    if show:\n",
        "        plt.show()\n",
        "else:\n",
        "    print('Wrong datatype.')\n",
        "\n",
        "\n"
      ],
      "metadata": {
        "colab": {
          "base_uri": "https://localhost:8080/",
          "height": 486
        },
        "id": "rBZR6uMMvhO2",
        "outputId": "6fd22218-2663-4866-8698-bfd731430b90"
      },
      "execution_count": 19,
      "outputs": [
        {
          "output_type": "display_data",
          "data": {
            "text/plain": [
              "<Figure size 640x480 with 1 Axes>"
            ],
            "image/png": "[encoded data removed]"
          },
          "metadata": {}
        }
      ]
    },
    {
      "cell_type": "code",
      "source": [
        "!python3 test_learned_on_benchmark.py"
      ],
      "metadata": {
        "colab": {
          "base_uri": "https://localhost:8080/"
        },
        "id": "OCP2-bAZk2HR",
        "outputId": "7fc5a8ff-f1a3-48b0-8ea4-56d596295f60"
      },
      "execution_count": 4,
      "outputs": [
        {
          "output_type": "stream",
          "name": "stdout",
          "text": [
            "/content/drive/My Drive/L2D-main/mb_agg.py:44: UserWarning: torch.sparse.SparseTensor(indices, values, shape, *, device=) is deprecated.  Please use torch.sparse_coo_tensor(indices, values, shape, dtype=, device=). (Triggered internally at ../torch/csrc/utils/tensor_new.cpp:605.)\n",
            "  graph_pool = torch.sparse.FloatTensor(idx, elem,\n",
            "Instance1 makespan: 2788.0\n",
            "Instance2 makespan: 2731.0\n",
            "Instance3 makespan: 2939.0\n",
            "Instance4 makespan: 2735.0\n",
            "Instance5 makespan: 2940.0\n",
            "Instance6 makespan: 2875.0\n",
            "Instance7 makespan: 2854.0\n",
            "Instance8 makespan: 2936.0\n",
            "Instance9 makespan: 2840.0\n",
            "Instance10 makespan: 2690.0\n"
          ]
        }
      ]
    }
  ]
}